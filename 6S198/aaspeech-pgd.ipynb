{
 "cells": [
  {
   "cell_type": "code",
   "execution_count": 1,
   "metadata": {},
   "outputs": [
    {
     "name": "stderr",
     "output_type": "stream",
     "text": [
      "Using TensorFlow backend.\n"
     ]
    }
   ],
   "source": [
    "import os\n",
    "import glob\n",
    "import numpy as np\n",
    "import scipy as sp\n",
    "from scipy import signal\n",
    "import matplotlib.pyplot as plt\n",
    "import soundfile as sf\n",
    "\n",
    "import tensorflow as tf\n",
    "import sklearn.model_selection as skms\n",
    "\n",
    "import keras\n",
    "from keras.datasets import mnist\n",
    "from keras.models import Sequential\n",
    "from keras.layers import Dense, Dropout, Flatten\n",
    "from keras.layers import Conv2D, MaxPooling2D\n",
    "from keras.layers import BatchNormalization\n",
    "from keras.layers import InputLayer\n",
    "from keras import backend as K\n",
    "from keras.layers import Activation, Dense\n",
    "from keras.utils import np_utils\n",
    "import keras.optimizers as optimizers\n",
    "\n",
    "from __future__ import print_function\n",
    "from ipywidgets import interact, interactive, fixed, interact_manual\n",
    "import ipywidgets as widgets\n",
    "\n",
    "import sys\n",
    "sys.path.append(\"./fmp\")\n",
    "from util import *\n",
    "import fmp"
   ]
  },
  {
   "cell_type": "markdown",
   "metadata": {},
   "source": [
    "## Tensorflow (Keras) CNN Model"
   ]
  },
  {
   "cell_type": "code",
   "execution_count": 2,
   "metadata": {},
   "outputs": [],
   "source": [
    "BATCH_SIZE = 128\n",
    "EPOCHS = 20\n",
    "ONE_HOT_SHAPE = 10\n",
    "\n",
    "checkpoint_path = \"./checkpoints/cnn2_cp-{epoch:04d}.ckpt\"\n",
    "checkpoint_dir = os.path.dirname(checkpoint_path)\n",
    "\n",
    "cp_callback = tf.keras.callbacks.ModelCheckpoint(\n",
    "    checkpoint_path, verbose=1, save_weights_only=True,\n",
    "    # Save weights, every 5-epochs.\n",
    "    period=5)\n",
    "\n",
    "# CNN model from https://machinelearningmastery.com/handwritten-digit-recognition-using-convolutional-neural-networks-python-keras/\n",
    "def cnn2_model():\n",
    "    # create model\n",
    "    model = Sequential()\n",
    "    \n",
    "    model.add(Conv2D(32, (3, 3), input_shape=(1, 128, 128), data_format = 'channels_first'))\n",
    "    model.add(BatchNormalization())\n",
    "    model.add(Activation(\"relu\"))\n",
    "\n",
    "    model.add(MaxPooling2D((2, 2)))\n",
    "\n",
    "    model.add(Conv2D(64, (3, 3)))\n",
    "    model.add(BatchNormalization())\n",
    "    model.add(Activation(\"relu\"))\n",
    "\n",
    "    model.add(MaxPooling2D((2, 2)))\n",
    "\n",
    "    model.add(Conv2D(128, (3, 3)))\n",
    "    model.add(BatchNormalization())\n",
    "    model.add(Activation(\"relu\"))\n",
    "\n",
    "    model.add(MaxPooling2D((2, 2)))\n",
    "\n",
    "    model.add(Flatten())\n",
    "    model.add(Dropout(0.2))\n",
    "    model.add(Dense(128))\n",
    "    model.add(BatchNormalization())\n",
    "    model.add(Activation(\"relu\"))\n",
    "\n",
    "    model.add(Dense(ONE_HOT_SHAPE))\n",
    "    model.add(BatchNormalization())\n",
    "    model.add(Activation(\"sigmoid\"))\n",
    "\n",
    "    model.compile(\n",
    "        loss='binary_crossentropy',\n",
    "        optimizer=optimizers.Adam(lr=0.001, beta_1=0.9, beta_2=0.999, epsilon=1e-08, decay=0.0),\n",
    "        metrics=['acc'])\n",
    "    return model"
   ]
  },
  {
   "cell_type": "code",
   "execution_count": 3,
   "metadata": {},
   "outputs": [],
   "source": [
    "model = cnn2_model()\n",
    "model.load_weights('./checkpoints/cnn2_checkpoint_complete')"
   ]
  },
  {
   "cell_type": "markdown",
   "metadata": {},
   "source": [
    "## Training Results\n",
    "\n",
    "Train on 5216 samples, validate on 652 samples\n",
    "Epoch 1/20\n",
    " - 182s - loss: 0.6650 - acc: 0.6356 - val_loss: 1.4264 - val_acc: 0.7397\n",
    "Epoch 2/20\n",
    " - 179s - loss: 0.5730 - acc: 0.7528 - val_loss: 0.7469 - val_acc: 0.6906\n",
    "Epoch 3/20\n",
    " - 178s - loss: 0.5293 - acc: 0.8150 - val_loss: 0.6868 - val_acc: 0.7097\n",
    "Epoch 4/20\n",
    " - 178s - loss: 0.4980 - acc: 0.8612 - val_loss: 0.6148 - val_acc: 0.6581\n",
    "Epoch 5/20\n",
    " - 177s - loss: 0.4708 - acc: 0.8937 - val_loss: 0.5323 - val_acc: 0.7702\n",
    "\n",
    "Epoch 00005: saving model to ./checkpoints/cnn2_cp-0005.ckpt\n",
    "Epoch 6/20\n",
    " - 177s - loss: 0.4482 - acc: 0.9160 - val_loss: 0.4950 - val_acc: 0.8245\n",
    "Epoch 7/20\n",
    " - 177s - loss: 0.4270 - acc: 0.9328 - val_loss: 0.6320 - val_acc: 0.6776\n",
    "Epoch 8/20\n",
    " - 177s - loss: 0.4083 - acc: 0.9452 - val_loss: 0.5055 - val_acc: 0.7785\n",
    "Epoch 9/20\n",
    " - 178s - loss: 0.3894 - acc: 0.9582 - val_loss: 0.5066 - val_acc: 0.8080\n",
    "Epoch 10/20\n",
    " - 178s - loss: 0.3724 - acc: 0.9652 - val_loss: 0.4354 - val_acc: 0.8765\n",
    "\n",
    "Epoch 00010: saving model to ./checkpoints/cnn2_cp-0010.ckpt\n",
    "Epoch 11/20\n",
    " - 178s - loss: 0.3566 - acc: 0.9702 - val_loss: 0.4155 - val_acc: 0.8986\n",
    "Epoch 12/20\n",
    " - 178s - loss: 0.3412 - acc: 0.9761 - val_loss: 0.3872 - val_acc: 0.9580\n",
    "Epoch 13/20\n",
    " - 179s - loss: 0.3268 - acc: 0.9805 - val_loss: 0.3769 - val_acc: 0.9192\n",
    "Epoch 14/20\n",
    " - 179s - loss: 0.3133 - acc: 0.9835 - val_loss: 0.3413 - val_acc: 0.9566\n",
    "Epoch 15/20\n",
    " - 179s - loss: 0.3020 - acc: 0.9848 - val_loss: 0.3412 - val_acc: 0.9492\n",
    "\n",
    "Epoch 00015: saving model to ./checkpoints/cnn2_cp-0015.ckpt\n",
    "Epoch 16/20\n",
    " - 177s - loss: 0.2903 - acc: 0.9868 - val_loss: 0.3183 - val_acc: 0.9581\n",
    "Epoch 17/20\n",
    " - 176s - loss: 0.2780 - acc: 0.9897 - val_loss: 0.3111 - val_acc: 0.9681\n",
    "Epoch 18/20\n",
    " - 177s - loss: 0.2674 - acc: 0.9915 - val_loss: 0.3049 - val_acc: 0.9603\n",
    "Epoch 19/20\n",
    " - 176s - loss: 0.2568 - acc: 0.9927 - val_loss: 0.2842 - val_acc: 0.9716\n",
    "Epoch 20/20\n",
    " - 177s - loss: 0.2486 - acc: 0.9924 - val_loss: 0.2537 - val_acc: 0.9885\n",
    "\n",
    "Epoch 00020: saving model to ./checkpoints/cnn2_cp-0020.ckpt\n",
    "CNN Error: 1.15%"
   ]
  },
  {
   "cell_type": "code",
   "execution_count": 4,
   "metadata": {},
   "outputs": [
    {
     "name": "stdout",
     "output_type": "stream",
     "text": [
      "/Users/timothy/Documents/MIT/2018_Fall/6.S198/6S198\n",
      "/Users/timothy/Documents/MIT/2018_Fall/6.S198/6S198/../TIDIGITS/tidigits_flac/data\n"
     ]
    }
   ],
   "source": [
    "# Load Data\n",
    "\n",
    "#../../6.S198/6S198\n",
    "PATH = os.path.abspath('.') #os.path.abspath(os.path.join('..', 'input'))\n",
    "print(PATH)\n",
    "\n",
    "#../../6.S198/TIDIGITS/tidigits_comp/data\n",
    "DATA_PATH = os.path.join(PATH, '..', 'TIDIGITS', 'tidigits_flac', 'data')\n",
    "print(DATA_PATH)\n",
    "\n",
    "def loadFiles():\n",
    "    subpaths_1 = ['adults', 'children']\n",
    "    subpaths_2 = ['test', 'train']\n",
    "    file_ext = '.flac'#'.wav'\n",
    "\n",
    "    # Generate list of samples\n",
    "    samples = []\n",
    "    for subpath_1 in subpaths_1:\n",
    "        for subpath_2 in subpaths_2:\n",
    "            for subpath_3 in os.listdir(os.path.join(DATA_PATH, subpath_1, subpath_2)):\n",
    "                if not os.path.isdir(os.path.join(DATA_PATH, subpath_1, subpath_2, subpath_3)):\n",
    "                    continue\n",
    "                for subpath_voice in os.listdir(os.path.join(DATA_PATH, subpath_1, subpath_2, subpath_3)):\n",
    "                    if not os.path.isdir(os.path.join(DATA_PATH, subpath_1, subpath_2, subpath_3, subpath_voice)):\n",
    "                        continue\n",
    "                    subpath = os.path.join(subpath_1, subpath_2, subpath_3, subpath_voice)\n",
    "                    for sample in os.listdir(os.path.join(DATA_PATH, subpath_1, subpath_2, subpath_3, subpath_voice)):\n",
    "                        sample_name = sample[:-len(file_ext)]\n",
    "                        sample_path = os.path.join(subpath_1, subpath_2, subpath_3, subpath_voice, sample)\n",
    "                        if len(sample_name) == 2 and sample_name[0].isdigit():\n",
    "                            samples.append((sample_name, sample_path))\n",
    "                        elif len(sample_name) == 2 and sample_name[0]=='z':\n",
    "                            samples.append((sample_name, sample_path))\n",
    "\n",
    "    return samples"
   ]
  },
  {
   "cell_type": "code",
   "execution_count": 5,
   "metadata": {},
   "outputs": [],
   "source": [
    "#s = loadFiles()\n",
    "#countSamples(s)"
   ]
  },
  {
   "cell_type": "code",
   "execution_count": 6,
   "metadata": {},
   "outputs": [],
   "source": [
    "def samples_to_spectrograms(samples, mag=True, log=False, plot=False):\n",
    "    spectrograms = []\n",
    "    labels = []\n",
    "    paths = []\n",
    "    for i, (name, path) in enumerate(samples):\n",
    "        # Create Spectrogram\n",
    "        sample_path = os.path.join(DATA_PATH, path)\n",
    "        snd, fs = sf.read(sample_path)\n",
    "        f, t, snd_stft = sp.signal.stft(snd, fs=fs)\n",
    "        if mag:\n",
    "            snd_stft = np.abs(snd_stft)\n",
    "            if log:\n",
    "                snd_stft = np.log(snd_stft)\n",
    "        if plot:\n",
    "            plt.figure()\n",
    "            #plt.pcolormesh(t, f, snd_stft)\n",
    "            plt.pcolormesh(range(snd_stft.shape[1]), range(snd_stft.shape[0]), snd_stft)\n",
    "        spectrograms.append(snd_stft)\n",
    "        \n",
    "        # Create Label\n",
    "        if name[:-1].isdigit():\n",
    "            labels.append(int(name[:-1]))\n",
    "        elif name[:-1]=='z':\n",
    "            labels.append(int(0))\n",
    "        else:\n",
    "            print(\"FATAL ERROR: DATA should not have \" + str(name))\n",
    "        \n",
    "        # Create file-path (for playback)\n",
    "        paths.append(sample_path)\n",
    "    return spectrograms, labels, paths\n",
    "\n",
    "def trim_spectrograms(spectrograms, shape=(128, 128), pad=(0,20), plot=False):\n",
    "    # Hardcoded trim\n",
    "    trimmed = []\n",
    "    for spec in spectrograms:\n",
    "        spec_zp = np.zeros(shape)\n",
    "        spec_trim = spec[pad[0]:pad[0]+shape[0], pad[1]:pad[1]+shape[1]]\n",
    "        spec_zp[:spec_trim.shape[0], :spec_trim.shape[1]] = spec_trim\n",
    "        trimmed.append(spec_zp)\n",
    "    if plot:\n",
    "        for spec in trimmed:\n",
    "            plt.figure()\n",
    "            plt.pcolormesh(range(spec.shape[1]), range(spec.shape[0]), spec)\n",
    "            plt.colorbar()\n",
    "    return trimmed\n",
    "\n",
    "def create_dataset():\n",
    "    s = loadFiles()\n",
    "    x, y, paths = samples_to_spectrograms(s)\n",
    "    x = trim_spectrograms(x)\n",
    "    return x, y, paths"
   ]
  },
  {
   "cell_type": "code",
   "execution_count": 7,
   "metadata": {},
   "outputs": [],
   "source": [
    "# Demo Data\n",
    "\n",
    "x, y, paths = create_dataset()"
   ]
  },
  {
   "cell_type": "markdown",
   "metadata": {},
   "source": [
    "## Test TIDIGIT Classification"
   ]
  },
  {
   "cell_type": "code",
   "execution_count": 42,
   "metadata": {},
   "outputs": [
    {
     "data": {
      "application/vnd.jupyter.widget-view+json": {
       "model_id": "ad52507964a844cf9c3e625e406525a7",
       "version_major": 2,
       "version_minor": 0
      },
      "text/plain": [
       "interactive(children=(IntSlider(value=10, description='IDX', max=6520), Output()), _dom_classes=('widget-inter…"
      ]
     },
     "metadata": {},
     "output_type": "display_data"
    }
   ],
   "source": [
    "# Test Demo Data\n",
    "\n",
    "@interact(IDX=widgets.IntSlider(min=0,max=len(x),step=1,value=10))\n",
    "def demo(IDX=np.random.randint(0, len(x))):\n",
    "    print(\"IDX:       \" + str(IDX))\n",
    "    print(\"\\nLabel:     \" + str(y[IDX]))\n",
    "    snd, fs = sf.read(paths[IDX])\n",
    "\n",
    "    test_images = np.array([x[IDX]])\n",
    "    test_labels = np.array([y[IDX]])\n",
    "    test_images = test_images.reshape(test_images.shape[0], 1, 128, 128).astype('float32')\n",
    "    \n",
    "    # Create prediction\n",
    "    predictions = model.predict(test_images)\n",
    "    \n",
    "    img = test_images[0][0]\n",
    "    target_class = None\n",
    "    correct_class = test_labels[0]\n",
    "\n",
    "    # Display image (courtesy of Anish Athalye)\n",
    "    plt.figure();\n",
    "    fig, (ax1, ax2) = plt.subplots(1, 2, figsize=(10, 4))\n",
    "    fig.sca(ax1)\n",
    "    p = predictions[0]\n",
    "    ax1.imshow(img, origin='lower')\n",
    "    fig.sca(ax1)\n",
    "\n",
    "    topk = list(p.argsort()[-10:][::-1])\n",
    "    topprobs = p[topk]\n",
    "    barlist = ax2.bar(range(10), topprobs)\n",
    "    \n",
    "    if correct_class in topk:\n",
    "        barlist[topk.index(correct_class)].set_color('g')\n",
    "\n",
    "    tidigit_labels = ['0','1','2','3','4','5','6','7','8','9']\n",
    "\n",
    "    plt.sca(ax2)\n",
    "    plt.ylim([0, 1.1])\n",
    "    plt.xticks(range(10), [tidigit_labels[i][:15] for i in topk])\n",
    "    fig.subplots_adjust(bottom=0.2)\n",
    "    \n",
    "    print(\"Predicted: \" + str(tidigit_labels[topk[0]]))\n",
    "\n",
    "    return Audio(snd, rate=fs);"
   ]
  },
  {
   "cell_type": "markdown",
   "metadata": {},
   "source": [
    "## Record your own demo"
   ]
  },
  {
   "cell_type": "code",
   "execution_count": 9,
   "metadata": {},
   "outputs": [],
   "source": [
    "#os.system(\"open -a /Applications/Adobe\\ Audition\\ CC\\ 2017/Adobe\\ Audition\\ CC\\ 2017\")"
   ]
  },
  {
   "cell_type": "code",
   "execution_count": 10,
   "metadata": {},
   "outputs": [],
   "source": [
    "def demo_query(snd):\n",
    "    snd, fs = sf.read(\"./tmp/query.flac\")\n",
    "    f, t, snd_stft = sp.signal.stft(snd, fs=fs)\n",
    "    snd_stft = np.abs(snd_stft)\n",
    "    \n",
    "    shape=(128, 128)\n",
    "    pad=(0,20)\n",
    "    spec_zp = np.zeros(shape)\n",
    "    spec_trim = snd_stft[pad[0]:pad[0]+shape[0], pad[1]:pad[1]+shape[1]]\n",
    "    spec_zp[:spec_trim.shape[0], :spec_trim.shape[1]] = spec_trim\n",
    "    snd_stft = spec_zp\n",
    "\n",
    "    test_images = np.array([snd_stft])\n",
    "    test_labels = np.array([None])\n",
    "    test_images = test_images.reshape(test_images.shape[0], 1, 128, 128).astype('float32')\n",
    "    \n",
    "    # Create prediction\n",
    "    predictions = model.predict(test_images)\n",
    "    \n",
    "    img = test_images[0][0]\n",
    "    target_class = None\n",
    "    correct_class = None\n",
    "\n",
    "    # Display image (courtesy of Anish Athalye)\n",
    "    plt.figure();\n",
    "    fig, (ax1, ax2) = plt.subplots(1, 2, figsize=(10, 8))\n",
    "    fig.sca(ax1)\n",
    "    p = predictions[0]\n",
    "    ax1.imshow(img, origin='lower')\n",
    "    fig.sca(ax1)\n",
    "\n",
    "    topk = list(p.argsort()[-10:][::-1])\n",
    "    topprobs = p[topk]\n",
    "    barlist = ax2.bar(range(10), topprobs)\n",
    "\n",
    "    tidigit_labels = ['0','1','2','3','4','5','6','7','8','9']\n",
    "\n",
    "    plt.sca(ax2)\n",
    "    plt.ylim([0, 1.1])\n",
    "    plt.xticks(range(10), [tidigit_labels[i][:15] for i in topk])\n",
    "    fig.subplots_adjust(bottom=0.2)\n",
    "    \n",
    "    print(\"Predicted: \" + str(tidigit_labels[topk[0]]))\n",
    "\n",
    "    return Audio(snd, rate=fs);"
   ]
  },
  {
   "cell_type": "code",
   "execution_count": 11,
   "metadata": {},
   "outputs": [
    {
     "name": "stdout",
     "output_type": "stream",
     "text": [
      "Predicted: 5\n"
     ]
    },
    {
     "data": {
      "text/html": [
       "\n",
       "                <audio controls=\"controls\" >\n",
       "                    <source src=\"data:audio/wav;base64,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\" type=\"audio/wav\" />\n",
       "                    Your browser does not support the audio element.\n",
       "                </audio>\n",
       "              "
      ],
      "text/plain": [
       "<util.Audio object>"
      ]
     },
     "execution_count": 11,
     "metadata": {},
     "output_type": "execute_result"
    },
    {
     "data": {
      "text/plain": [
       "<Figure size 432x288 with 0 Axes>"
      ]
     },
     "metadata": {},
     "output_type": "display_data"
    },
    {
     "data": {
      "image/png": "[encoded data removed]",
      "text/plain": [
       "<Figure size 720x576 with 2 Axes>"
      ]
     },
     "metadata": {
      "needs_background": "light"
     },
     "output_type": "display_data"
    }
   ],
   "source": [
    "snd, fs = sf.read(\"./tmp/query.flac\")\n",
    "Audio(snd, rate=fs)\n",
    "\n",
    "demo_query(snd)"
   ]
  },
  {
   "cell_type": "markdown",
   "metadata": {},
   "source": [
    "## Keras Model without Optimizer for Project Gradient Decent Attack"
   ]
  },
  {
   "cell_type": "code",
   "execution_count": 12,
   "metadata": {},
   "outputs": [],
   "source": [
    "def cnn_tf_model(custom_input_tensor):\n",
    "    # create model\n",
    "    model = Sequential()\n",
    "    \n",
    "    model.add(InputLayer(input_tensor=custom_input_tensor,\n",
    "                     input_shape=(None, 1, 128, 128)))\n",
    "    \n",
    "    model.add(Conv2D(32, (3, 3), data_format = 'channels_first'))\n",
    "    model.add(BatchNormalization())\n",
    "    model.add(Activation(\"relu\"))\n",
    "\n",
    "    model.add(MaxPooling2D((2, 2)))\n",
    "\n",
    "    model.add(Conv2D(64, (3, 3)))\n",
    "    model.add(BatchNormalization())\n",
    "    model.add(Activation(\"relu\"))\n",
    "\n",
    "    model.add(MaxPooling2D((2, 2)))\n",
    "\n",
    "    model.add(Conv2D(128, (3, 3)))\n",
    "    model.add(BatchNormalization())\n",
    "    model.add(Activation(\"relu\"))\n",
    "\n",
    "    model.add(MaxPooling2D((2, 2)))\n",
    "\n",
    "    model.add(Flatten())\n",
    "    model.add(Dropout(0.2))\n",
    "    model.add(Dense(128))\n",
    "    model.add(BatchNormalization())\n",
    "    model.add(Activation(\"relu\"))\n",
    "\n",
    "    model.add(Dense(10))\n",
    "    model.add(BatchNormalization())\n",
    "    model.add(Activation(\"sigmoid\"))\n",
    "\n",
    "    return model"
   ]
  },
  {
   "cell_type": "markdown",
   "metadata": {},
   "source": [
    "## Project Gradient Descent Attack\n",
    "\n",
    "Setup\n",
    "\n",
    "Reference: Anish Athalye's Guide to Synthesizing Adversarial Examples (https://www.anishathalye.com/2017/07/25/synthesizing-adversarial-examples/)"
   ]
  },
  {
   "cell_type": "code",
   "execution_count": 14,
   "metadata": {},
   "outputs": [
    {
     "name": "stdout",
     "output_type": "stream",
     "text": [
      "WARNING:tensorflow:From <ipython-input-14-14a8b30f2bbd>:23: softmax_cross_entropy_with_logits (from tensorflow.python.ops.nn_ops) is deprecated and will be removed in a future version.\n",
      "Instructions for updating:\n",
      "\n",
      "Future major versions of TensorFlow will allow gradients to flow\n",
      "into the labels input on backprop by default.\n",
      "\n",
      "See `tf.nn.softmax_cross_entropy_with_logits_v2`.\n",
      "\n"
     ]
    }
   ],
   "source": [
    "# Setup Tensorflow Session\n",
    "sess = tf.InteractiveSession()\n",
    "\n",
    "# Setup Keras CNN Model with trained weights (no optimizer)\n",
    "custom_input_tensor = tf.placeholder(tf.float32, shape=(None, 1, 128, 128))\n",
    "image = tf.Variable(tf.zeros((1, 1, 128, 128)))\n",
    "cnn_model = cnn_tf_model(image)\n",
    "cnn_model.load_weights('./checkpoints/cnn2_checkpoint_complete')\n",
    "\n",
    "# Load Keras model as Tensorflow\n",
    "output_tensor = cnn_model.output\n",
    "\n",
    "# Source: Anish Athalye's Guide to Synthesizing Adversarial Examples (https://www.anishathalye.com/2017/07/25/synthesizing-adversarial-examples/)\n",
    "x_tf = tf.placeholder(tf.float32, (1, 1, 128, 128))\n",
    "x_hat = image # our trainable adversarial input\n",
    "assign_op = tf.assign(x_hat, x_tf)\n",
    "\n",
    "learning_rate = tf.placeholder(tf.float32, ())\n",
    "y_hat = tf.placeholder(tf.int32, ())\n",
    "\n",
    "labels = tf.one_hot(y_hat, 10)\n",
    "\n",
    "loss = tf.nn.softmax_cross_entropy_with_logits(logits=output_tensor, labels=[labels])\n",
    "optim_step = tf.train.GradientDescentOptimizer(learning_rate).minimize(loss, var_list=[x_hat])\n",
    "\n",
    "# Project and Clip\n",
    "epsilon = tf.placeholder(tf.float32, ())\n",
    "\n",
    "below = x_tf - epsilon\n",
    "above = x_tf + epsilon\n",
    "projected = tf.clip_by_value(tf.clip_by_value(x_hat, below, above), 0, 1)\n",
    "with tf.control_dependencies([projected]):\n",
    "    project_step = tf.assign(x_hat, projected)\n",
    "    \n",
    "model = cnn2_model()\n",
    "model.load_weights('./checkpoints/cnn2_checkpoint_complete')"
   ]
  },
  {
   "cell_type": "markdown",
   "metadata": {},
   "source": [
    "Adversarial Attack"
   ]
  },
  {
   "cell_type": "code",
   "execution_count": 66,
   "metadata": {},
   "outputs": [],
   "source": [
    "def aa(img, target = 5, aa_epsilon = 0.0005, aa_lr = 0.1, aa_steps = 100, verbose=False):\n",
    "    # Initialization step\n",
    "    sess.run(assign_op, feed_dict={x_tf: img})\n",
    "\n",
    "    # Projected gradient descent\n",
    "    for i in range(aa_steps):\n",
    "        # Gradient Descent step\n",
    "        _, loss_value = sess.run([optim_step, loss], feed_dict={learning_rate: aa_lr, y_hat: target})\n",
    "        \n",
    "       # Project step\n",
    "        sess.run(project_step, feed_dict={x_tf: img, epsilon: aa_epsilon})\n",
    "        if verbose and (i+1) % 10 == 0:\n",
    "            print('step %d, loss=%g' % (i+1, loss_value))\n",
    "        elif (i+1) % 25 == 0:\n",
    "            print('.')\n",
    "\n",
    "    adv = x_hat.eval()\n",
    "    return adv"
   ]
  },
  {
   "cell_type": "markdown",
   "metadata": {},
   "source": [
    "Display Adversarial Attack Statistics"
   ]
  },
  {
   "cell_type": "code",
   "execution_count": 72,
   "metadata": {},
   "outputs": [],
   "source": [
    "def show_aa(adv, snd, fs, IDX):\n",
    "\n",
    "    test_images = np.array([adv])\n",
    "    test_labels = np.array([y[IDX]])\n",
    "    test_images = test_images.reshape(test_images.shape[0], 1, 128, 128).astype('float32')\n",
    "    \n",
    "    # Create prediction\n",
    "    predictions = model.predict(test_images)\n",
    "    \n",
    "    img = test_images[0][0]\n",
    "    target_class = None\n",
    "    correct_class = test_labels[0]\n",
    "\n",
    "    # Display image (source: Anish Athalye)\n",
    "    plt.figure();\n",
    "    fig, (ax1, ax2) = plt.subplots(1, 2, figsize=(10, 4))\n",
    "    fig.sca(ax1)\n",
    "    p = predictions[0]\n",
    "    ax1.imshow(img, origin='lower')\n",
    "    fig.sca(ax1)\n",
    "\n",
    "    topk = list(p.argsort()[-10:][::-1])\n",
    "    topprobs = p[topk]\n",
    "    barlist = ax2.bar(range(10), topprobs)\n",
    "    \n",
    "    if correct_class in topk:\n",
    "        barlist[topk.index(correct_class)].set_color('g')\n",
    "\n",
    "    tidigit_labels = ['0','1','2','3','4','5','6','7','8','9']\n",
    "\n",
    "    plt.sca(ax2)\n",
    "    plt.ylim([0, 1.1])\n",
    "    plt.xticks(range(10), [tidigit_labels[i][:15] for i in topk])\n",
    "    fig.subplots_adjust(bottom=0.2)\n",
    "    \n",
    "    print(\"Predicted: \" + str(tidigit_labels[topk[0]]))\n",
    "\n",
    "    return Audio(snd, rate=fs);"
   ]
  },
  {
   "cell_type": "markdown",
   "metadata": {},
   "source": [
    "Convert adversarial image to Audio Signal"
   ]
  },
  {
   "cell_type": "code",
   "execution_count": 70,
   "metadata": {},
   "outputs": [],
   "source": [
    "def adv_to_snd(adv, snd, fs, plot=True):\n",
    "    # STFT on original signal\n",
    "    f_, t_, snd_stft = sp.signal.stft(snd, fs=fs)\n",
    "    snd_stft_zp = np.zeros((128, 128), dtype='complex128')\n",
    "    snd_stft_zp[:128, :snd_stft.shape[1]-20] = snd_stft[:128, 20:20+128]\n",
    "\n",
    "    adv = np.reshape(adv, (128, 128))\n",
    "    \n",
    "    # Transfer Phase Information\n",
    "    adv = fmp.transfer_phase(adv, snd_stft_zp)\n",
    "\n",
    "    # Prepare Adv spectrogram for Inverse STFT\n",
    "    adv_spec = np.zeros((129, 128), dtype='complex128')\n",
    "    adv_spec[:128, :128] = adv\n",
    "\n",
    "    adv_delta = adv - snd_stft_zp\n",
    "    \n",
    "    # Apply Inverse STFT\n",
    "    adv_t, adv_snd = sp.signal.istft(adv_delta, fs=fs)\n",
    "    adv_total_t, adv_total_snd = sp.signal.istft(adv, fs=fs)\n",
    "    \n",
    "    if plot:\n",
    "        plt.figure()\n",
    "        fig, axs = plt.subplots(1, 3, figsize=(12, 4), sharey=True)\n",
    "        axs[0].imshow(np.abs(adv), origin='lower')\n",
    "        axs[1].imshow(np.abs(snd_stft_zp), origin='lower')\n",
    "        axs[2].imshow(np.abs(adv_delta), origin='lower');\n",
    "        \n",
    "        axs[0].set_xlabel(\"Adversarial\")\n",
    "        axs[1].set_xlabel(\"Original\")\n",
    "        axs[2].set_xlabel(\"Noise Only\")\n",
    "        \n",
    "        plt.figure()\n",
    "        plt.plot(adv_snd)\n",
    "        plt.plot(snd);\n",
    "\n",
    "    return adv_snd, adv_total_snd"
   ]
  },
  {
   "cell_type": "markdown",
   "metadata": {},
   "source": [
    "## Adversarial Attack Demo"
   ]
  },
  {
   "cell_type": "code",
   "execution_count": 71,
   "metadata": {},
   "outputs": [
    {
     "data": {
      "application/vnd.jupyter.widget-view+json": {
       "model_id": "5af1b5254fde43ed851da060ffcb5fbd",
       "version_major": 2,
       "version_minor": 0
      },
      "text/plain": [
       "interactive(children=(IntSlider(value=10, description='IDX', max=6520), IntSlider(value=5, description='target…"
      ]
     },
     "metadata": {},
     "output_type": "display_data"
    }
   ],
   "source": [
    "@interact(IDX=widgets.IntSlider(min=0,max=len(x),step=1,value=10), target=(0,10))\n",
    "def demo_aa(IDX=np.random.randint(0, len(x)), target = 5):\n",
    "    # Load image\n",
    "    img = x[IDX]\n",
    "    print(\"IDX:       \" + str(IDX))\n",
    "    print(\"\\nLabel:     \" + str(y[IDX]))\n",
    "    \n",
    "    # Load original audio\n",
    "    snd, fs = sf.read(paths[IDX])\n",
    "    \n",
    "    # Adversarial Attack\n",
    "    img = np.reshape(img, (1, 1, 128, 128))\n",
    "    adv = aa(img, target)\n",
    "    \n",
    "    show_aa(adv, snd, fs, IDX);\n",
    "    \n",
    "    # Regenerate Adversarial Signal\n",
    "    adv_snd, adv_total_snd = adv_to_snd(adv, snd, fs);\n",
    "    \n",
    "    print(\"\\nOriginal sample: \")\n",
    "    display(Audio(snd, rate=fs, norm=False));\n",
    "    \n",
    "    print(\"Adversarial sample: \")\n",
    "    display(Audio(adv_total_snd, rate=fs, norm=False));\n",
    "    \n",
    "    print(\"Noise only: \")\n",
    "    display(Audio(adv_snd, rate=fs, norm=False));\n",
    "    "
   ]
  }
 ],
 "metadata": {
  "kernelspec": {
   "display_name": "Python 3",
   "language": "python",
   "name": "python3"
  },
  "language_info": {
   "codemirror_mode": {
    "name": "ipython",
    "version": 3
   },
   "file_extension": ".py",
   "mimetype": "text/x-python",
   "name": "python",
   "nbconvert_exporter": "python",
   "pygments_lexer": "ipython3",
   "version": "3.6.5"
  }
 },
 "nbformat": 4,
 "nbformat_minor": 2
}
